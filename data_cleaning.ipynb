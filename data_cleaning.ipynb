{
 "cells": [
  {
   "cell_type": "code",
   "execution_count": 31,
   "metadata": {},
   "outputs": [
    {
     "data": {
      "text/html": [
       "<div>\n",
       "<style scoped>\n",
       "    .dataframe tbody tr th:only-of-type {\n",
       "        vertical-align: middle;\n",
       "    }\n",
       "\n",
       "    .dataframe tbody tr th {\n",
       "        vertical-align: top;\n",
       "    }\n",
       "\n",
       "    .dataframe thead th {\n",
       "        text-align: right;\n",
       "    }\n",
       "</style>\n",
       "<table border=\"1\" class=\"dataframe\">\n",
       "  <thead>\n",
       "    <tr style=\"text-align: right;\">\n",
       "      <th></th>\n",
       "      <th>DR_NO</th>\n",
       "      <th>Date Rptd</th>\n",
       "      <th>DATE OCC</th>\n",
       "      <th>TIME OCC</th>\n",
       "      <th>AREA</th>\n",
       "      <th>AREA NAME</th>\n",
       "      <th>Rpt Dist No</th>\n",
       "      <th>Part 1-2</th>\n",
       "      <th>Crm Cd</th>\n",
       "      <th>Crm Cd Desc</th>\n",
       "      <th>...</th>\n",
       "      <th>Status</th>\n",
       "      <th>Status Desc</th>\n",
       "      <th>Crm Cd 1</th>\n",
       "      <th>Crm Cd 2</th>\n",
       "      <th>Crm Cd 3</th>\n",
       "      <th>Crm Cd 4</th>\n",
       "      <th>LOCATION</th>\n",
       "      <th>Cross Street</th>\n",
       "      <th>LAT</th>\n",
       "      <th>LON</th>\n",
       "    </tr>\n",
       "  </thead>\n",
       "  <tbody>\n",
       "    <tr>\n",
       "      <th>0</th>\n",
       "      <td>190326475</td>\n",
       "      <td>03/01/2020 12:00:00 AM</td>\n",
       "      <td>03/01/2020 12:00:00 AM</td>\n",
       "      <td>2130</td>\n",
       "      <td>7</td>\n",
       "      <td>Wilshire</td>\n",
       "      <td>784</td>\n",
       "      <td>1</td>\n",
       "      <td>510</td>\n",
       "      <td>VEHICLE - STOLEN</td>\n",
       "      <td>...</td>\n",
       "      <td>AA</td>\n",
       "      <td>Adult Arrest</td>\n",
       "      <td>510.0</td>\n",
       "      <td>998.0</td>\n",
       "      <td>NaN</td>\n",
       "      <td>NaN</td>\n",
       "      <td>1900 S  LONGWOOD                     AV</td>\n",
       "      <td>NaN</td>\n",
       "      <td>34.0375</td>\n",
       "      <td>-118.3506</td>\n",
       "    </tr>\n",
       "    <tr>\n",
       "      <th>1</th>\n",
       "      <td>200106753</td>\n",
       "      <td>02/09/2020 12:00:00 AM</td>\n",
       "      <td>02/08/2020 12:00:00 AM</td>\n",
       "      <td>1800</td>\n",
       "      <td>1</td>\n",
       "      <td>Central</td>\n",
       "      <td>182</td>\n",
       "      <td>1</td>\n",
       "      <td>330</td>\n",
       "      <td>BURGLARY FROM VEHICLE</td>\n",
       "      <td>...</td>\n",
       "      <td>IC</td>\n",
       "      <td>Invest Cont</td>\n",
       "      <td>330.0</td>\n",
       "      <td>998.0</td>\n",
       "      <td>NaN</td>\n",
       "      <td>NaN</td>\n",
       "      <td>1000 S  FLOWER                       ST</td>\n",
       "      <td>NaN</td>\n",
       "      <td>34.0444</td>\n",
       "      <td>-118.2628</td>\n",
       "    </tr>\n",
       "    <tr>\n",
       "      <th>2</th>\n",
       "      <td>200320258</td>\n",
       "      <td>11/11/2020 12:00:00 AM</td>\n",
       "      <td>11/04/2020 12:00:00 AM</td>\n",
       "      <td>1700</td>\n",
       "      <td>3</td>\n",
       "      <td>Southwest</td>\n",
       "      <td>356</td>\n",
       "      <td>1</td>\n",
       "      <td>480</td>\n",
       "      <td>BIKE - STOLEN</td>\n",
       "      <td>...</td>\n",
       "      <td>IC</td>\n",
       "      <td>Invest Cont</td>\n",
       "      <td>480.0</td>\n",
       "      <td>NaN</td>\n",
       "      <td>NaN</td>\n",
       "      <td>NaN</td>\n",
       "      <td>1400 W  37TH                         ST</td>\n",
       "      <td>NaN</td>\n",
       "      <td>34.0210</td>\n",
       "      <td>-118.3002</td>\n",
       "    </tr>\n",
       "  </tbody>\n",
       "</table>\n",
       "<p>3 rows × 28 columns</p>\n",
       "</div>"
      ],
      "text/plain": [
       "       DR_NO               Date Rptd                DATE OCC  TIME OCC  AREA  \\\n",
       "0  190326475  03/01/2020 12:00:00 AM  03/01/2020 12:00:00 AM      2130     7   \n",
       "1  200106753  02/09/2020 12:00:00 AM  02/08/2020 12:00:00 AM      1800     1   \n",
       "2  200320258  11/11/2020 12:00:00 AM  11/04/2020 12:00:00 AM      1700     3   \n",
       "\n",
       "   AREA NAME  Rpt Dist No  Part 1-2  Crm Cd            Crm Cd Desc  ...  \\\n",
       "0   Wilshire          784         1     510       VEHICLE - STOLEN  ...   \n",
       "1    Central          182         1     330  BURGLARY FROM VEHICLE  ...   \n",
       "2  Southwest          356         1     480          BIKE - STOLEN  ...   \n",
       "\n",
       "  Status   Status Desc Crm Cd 1 Crm Cd 2  Crm Cd 3 Crm Cd 4  \\\n",
       "0     AA  Adult Arrest    510.0    998.0       NaN      NaN   \n",
       "1     IC   Invest Cont    330.0    998.0       NaN      NaN   \n",
       "2     IC   Invest Cont    480.0      NaN       NaN      NaN   \n",
       "\n",
       "                                  LOCATION Cross Street      LAT       LON  \n",
       "0  1900 S  LONGWOOD                     AV          NaN  34.0375 -118.3506  \n",
       "1  1000 S  FLOWER                       ST          NaN  34.0444 -118.2628  \n",
       "2  1400 W  37TH                         ST          NaN  34.0210 -118.3002  \n",
       "\n",
       "[3 rows x 28 columns]"
      ]
     },
     "execution_count": 31,
     "metadata": {},
     "output_type": "execute_result"
    }
   ],
   "source": [
    "import pandas as pd\n",
    "\n",
    "df = pd.read_csv('./data/Crime_Data_from_2020_to_Present.csv')\n",
    "\n",
    "df.head(3)"
   ]
  },
  {
   "cell_type": "code",
   "execution_count": 32,
   "metadata": {},
   "outputs": [
    {
     "name": "stdout",
     "output_type": "stream",
     "text": [
      "DR_NO                   0\n",
      "Date Rptd               0\n",
      "DATE OCC                0\n",
      "TIME OCC                0\n",
      "AREA                    0\n",
      "AREA NAME               0\n",
      "Rpt Dist No             0\n",
      "Part 1-2                0\n",
      "Crm Cd                  0\n",
      "Crm Cd Desc             0\n",
      "Mocodes            151741\n",
      "Vict Age                0\n",
      "Vict Sex           144765\n",
      "Vict Descent       144777\n",
      "Premis Cd              16\n",
      "Premis Desc           588\n",
      "Weapon Used Cd     677885\n",
      "Weapon Desc        677885\n",
      "Status                  1\n",
      "Status Desc             0\n",
      "Crm Cd 1               11\n",
      "Crm Cd 2           935996\n",
      "Crm Cd 3          1002835\n",
      "Crm Cd 4          1005085\n",
      "LOCATION                0\n",
      "Cross Street       850909\n",
      "LAT                     0\n",
      "LON                     0\n",
      "dtype: int64\n"
     ]
    }
   ],
   "source": [
    "print(df.isnull().sum())"
   ]
  },
  {
   "cell_type": "code",
   "execution_count": 33,
   "metadata": {},
   "outputs": [],
   "source": [
    "# Handle missing values and data type conversion\n",
    "\n",
    "# drop rows for missing data in key fields : Currently Crm CD 1 for this data set\n",
    "df = df.dropna(subset=['Status'])"
   ]
  },
  {
   "cell_type": "code",
   "execution_count": 34,
   "metadata": {},
   "outputs": [],
   "source": [
    "# drop columns Crm Cd 2, Crm Cd 3, Crm Cd 4, Cross Street\n",
    "df = df.drop(['Crm Cd 1','Crm Cd 2','Crm Cd 3', 'Crm Cd 4', 'Cross Street'], axis = 1, errors='ignore')\n"
   ]
  },
  {
   "cell_type": "code",
   "execution_count": 35,
   "metadata": {},
   "outputs": [
    {
     "name": "stdout",
     "output_type": "stream",
     "text": [
      "Index(['DR_NO', 'Date Rptd', 'DATE OCC', 'TIME OCC', 'AREA', 'AREA NAME',\n",
      "       'Rpt Dist No', 'Part 1-2', 'Crm Cd', 'Crm Cd Desc', 'Mocodes',\n",
      "       'Vict Age', 'Vict Sex', 'Vict Descent', 'Premis Cd', 'Premis Desc',\n",
      "       'Weapon Used Cd', 'Weapon Desc', 'Status', 'Status Desc', 'LOCATION',\n",
      "       'LAT', 'LON'],\n",
      "      dtype='object')\n"
     ]
    }
   ],
   "source": [
    "print(df.columns)"
   ]
  },
  {
   "cell_type": "code",
   "execution_count": 36,
   "metadata": {},
   "outputs": [
    {
     "name": "stderr",
     "output_type": "stream",
     "text": [
      "/var/folders/ys/lk23tv6515z7gyrf4z6n1kwc0000gn/T/ipykernel_4652/939121336.py:2: FutureWarning: A value is trying to be set on a copy of a DataFrame or Series through chained assignment using an inplace method.\n",
      "The behavior will change in pandas 3.0. This inplace method will never work because the intermediate object on which we are setting values always behaves as a copy.\n",
      "\n",
      "For example, when doing 'df[col].method(value, inplace=True)', try using 'df.method({col: value}, inplace=True)' or df[col] = df[col].method(value) instead, to perform the operation inplace on the original object.\n",
      "\n",
      "\n",
      "  df['Vict Age'].fillna(df['Vict Age'].median(), inplace=True)\n",
      "/var/folders/ys/lk23tv6515z7gyrf4z6n1kwc0000gn/T/ipykernel_4652/939121336.py:3: FutureWarning: A value is trying to be set on a copy of a DataFrame or Series through chained assignment using an inplace method.\n",
      "The behavior will change in pandas 3.0. This inplace method will never work because the intermediate object on which we are setting values always behaves as a copy.\n",
      "\n",
      "For example, when doing 'df[col].method(value, inplace=True)', try using 'df.method({col: value}, inplace=True)' or df[col] = df[col].method(value) instead, to perform the operation inplace on the original object.\n",
      "\n",
      "\n",
      "  df['Weapon Desc'].fillna('UNKNOWN', inplace=True)\n",
      "/var/folders/ys/lk23tv6515z7gyrf4z6n1kwc0000gn/T/ipykernel_4652/939121336.py:4: FutureWarning: A value is trying to be set on a copy of a DataFrame or Series through chained assignment using an inplace method.\n",
      "The behavior will change in pandas 3.0. This inplace method will never work because the intermediate object on which we are setting values always behaves as a copy.\n",
      "\n",
      "For example, when doing 'df[col].method(value, inplace=True)', try using 'df.method({col: value}, inplace=True)' or df[col] = df[col].method(value) instead, to perform the operation inplace on the original object.\n",
      "\n",
      "\n",
      "  df['Weapon Used Cd'].fillna(0, inplace=True)\n",
      "/var/folders/ys/lk23tv6515z7gyrf4z6n1kwc0000gn/T/ipykernel_4652/939121336.py:5: FutureWarning: A value is trying to be set on a copy of a DataFrame or Series through chained assignment using an inplace method.\n",
      "The behavior will change in pandas 3.0. This inplace method will never work because the intermediate object on which we are setting values always behaves as a copy.\n",
      "\n",
      "For example, when doing 'df[col].method(value, inplace=True)', try using 'df.method({col: value}, inplace=True)' or df[col] = df[col].method(value) instead, to perform the operation inplace on the original object.\n",
      "\n",
      "\n",
      "  df['Mocodes'].fillna(0, inplace=True)\n",
      "/var/folders/ys/lk23tv6515z7gyrf4z6n1kwc0000gn/T/ipykernel_4652/939121336.py:6: FutureWarning: A value is trying to be set on a copy of a DataFrame or Series through chained assignment using an inplace method.\n",
      "The behavior will change in pandas 3.0. This inplace method will never work because the intermediate object on which we are setting values always behaves as a copy.\n",
      "\n",
      "For example, when doing 'df[col].method(value, inplace=True)', try using 'df.method({col: value}, inplace=True)' or df[col] = df[col].method(value) instead, to perform the operation inplace on the original object.\n",
      "\n",
      "\n",
      "  df['Vict Sex'].fillna('X', inplace=True)\n",
      "/var/folders/ys/lk23tv6515z7gyrf4z6n1kwc0000gn/T/ipykernel_4652/939121336.py:7: FutureWarning: A value is trying to be set on a copy of a DataFrame or Series through chained assignment using an inplace method.\n",
      "The behavior will change in pandas 3.0. This inplace method will never work because the intermediate object on which we are setting values always behaves as a copy.\n",
      "\n",
      "For example, when doing 'df[col].method(value, inplace=True)', try using 'df.method({col: value}, inplace=True)' or df[col] = df[col].method(value) instead, to perform the operation inplace on the original object.\n",
      "\n",
      "\n",
      "  df['Premis Cd'].fillna(0, inplace=True)\n",
      "/var/folders/ys/lk23tv6515z7gyrf4z6n1kwc0000gn/T/ipykernel_4652/939121336.py:8: FutureWarning: A value is trying to be set on a copy of a DataFrame or Series through chained assignment using an inplace method.\n",
      "The behavior will change in pandas 3.0. This inplace method will never work because the intermediate object on which we are setting values always behaves as a copy.\n",
      "\n",
      "For example, when doing 'df[col].method(value, inplace=True)', try using 'df.method({col: value}, inplace=True)' or df[col] = df[col].method(value) instead, to perform the operation inplace on the original object.\n",
      "\n",
      "\n",
      "  df['Premis Desc'].fillna('UNKNOWN', inplace=True)\n",
      "/var/folders/ys/lk23tv6515z7gyrf4z6n1kwc0000gn/T/ipykernel_4652/939121336.py:9: FutureWarning: A value is trying to be set on a copy of a DataFrame or Series through chained assignment using an inplace method.\n",
      "The behavior will change in pandas 3.0. This inplace method will never work because the intermediate object on which we are setting values always behaves as a copy.\n",
      "\n",
      "For example, when doing 'df[col].method(value, inplace=True)', try using 'df.method({col: value}, inplace=True)' or df[col] = df[col].method(value) instead, to perform the operation inplace on the original object.\n",
      "\n",
      "\n",
      "  df['Vict Descent'].fillna('X', inplace=True)\n"
     ]
    }
   ],
   "source": [
    "# Fill in missing values in non-essential fields\n",
    "df['Vict Age'].fillna(df['Vict Age'].median(), inplace=True)\n",
    "df['Weapon Desc'].fillna('UNKNOWN', inplace=True)\n",
    "df['Weapon Used Cd'].fillna(0, inplace=True)\n",
    "df['Mocodes'].fillna(0, inplace=True)\n",
    "df['Vict Sex'].fillna('X', inplace=True)\n",
    "df['Premis Cd'].fillna(0, inplace=True)\n",
    "df['Premis Desc'].fillna('UNKNOWN', inplace=True)\n",
    "df['Vict Descent'].fillna('X', inplace=True)"
   ]
  },
  {
   "cell_type": "code",
   "execution_count": 37,
   "metadata": {},
   "outputs": [
    {
     "name": "stdout",
     "output_type": "stream",
     "text": [
      "Index(['DR_NO', 'Date Rptd', 'DATE OCC', 'TIME OCC', 'AREA', 'AREA NAME',\n",
      "       'Rpt Dist No', 'Part 1-2', 'Crm Cd', 'Crm Cd Desc', 'Mocodes',\n",
      "       'Vict Age', 'Vict Sex', 'Vict Descent', 'Premis Cd', 'Premis Desc',\n",
      "       'Weapon Used Cd', 'Weapon Desc', 'Status', 'Status Desc', 'LOCATION',\n",
      "       'LAT', 'LON'],\n",
      "      dtype='object')\n"
     ]
    }
   ],
   "source": [
    "print(df.columns)"
   ]
  },
  {
   "cell_type": "code",
   "execution_count": 38,
   "metadata": {},
   "outputs": [
    {
     "name": "stdout",
     "output_type": "stream",
     "text": [
      "DR_NO             0\n",
      "Date Rptd         0\n",
      "DATE OCC          0\n",
      "TIME OCC          0\n",
      "AREA              0\n",
      "AREA NAME         0\n",
      "Rpt Dist No       0\n",
      "Part 1-2          0\n",
      "Crm Cd            0\n",
      "Crm Cd Desc       0\n",
      "Mocodes           0\n",
      "Vict Age          0\n",
      "Vict Sex          0\n",
      "Vict Descent      0\n",
      "Premis Cd         0\n",
      "Premis Desc       0\n",
      "Weapon Used Cd    0\n",
      "Weapon Desc       0\n",
      "Status            0\n",
      "Status Desc       0\n",
      "LOCATION          0\n",
      "LAT               0\n",
      "LON               0\n",
      "dtype: int64\n"
     ]
    }
   ],
   "source": [
    "print(df.isnull().sum())"
   ]
  },
  {
   "cell_type": "code",
   "execution_count": 39,
   "metadata": {},
   "outputs": [],
   "source": [
    "# Check for and clear duplicates\n",
    "df = df.drop_duplicates(subset=['DR_NO'])"
   ]
  },
  {
   "cell_type": "code",
   "execution_count": 41,
   "metadata": {},
   "outputs": [
    {
     "name": "stdout",
     "output_type": "stream",
     "text": [
      "<class 'pandas.core.frame.DataFrame'>\n",
      "Index: 1005148 entries, 0 to 1005148\n",
      "Data columns (total 23 columns):\n",
      " #   Column          Non-Null Count    Dtype  \n",
      "---  ------          --------------    -----  \n",
      " 0   DR_NO           1005148 non-null  int64  \n",
      " 1   Date Rptd       1005148 non-null  object \n",
      " 2   DATE OCC        1005148 non-null  object \n",
      " 3   TIME OCC        1005148 non-null  int64  \n",
      " 4   AREA            1005148 non-null  int64  \n",
      " 5   AREA NAME       1005148 non-null  object \n",
      " 6   Rpt Dist No     1005148 non-null  int64  \n",
      " 7   Part 1-2        1005148 non-null  int64  \n",
      " 8   Crm Cd          1005148 non-null  int64  \n",
      " 9   Crm Cd Desc     1005148 non-null  object \n",
      " 10  Mocodes         1005148 non-null  object \n",
      " 11  Vict Age        1005148 non-null  int64  \n",
      " 12  Vict Sex        1005148 non-null  object \n",
      " 13  Vict Descent    1005148 non-null  object \n",
      " 14  Premis Cd       1005148 non-null  float64\n",
      " 15  Premis Desc     1005148 non-null  object \n",
      " 16  Weapon Used Cd  1005148 non-null  float64\n",
      " 17  Weapon Desc     1005148 non-null  object \n",
      " 18  Status          1005148 non-null  object \n",
      " 19  Status Desc     1005148 non-null  object \n",
      " 20  LOCATION        1005148 non-null  object \n",
      " 21  LAT             1005148 non-null  float64\n",
      " 22  LON             1005148 non-null  float64\n",
      "dtypes: float64(4), int64(7), object(12)\n",
      "memory usage: 184.0+ MB\n",
      "None\n"
     ]
    }
   ],
   "source": [
    "# Verify column types and preview data\n",
    "print(df.info())"
   ]
  },
  {
   "cell_type": "code",
   "execution_count": 42,
   "metadata": {},
   "outputs": [
    {
     "name": "stdout",
     "output_type": "stream",
     "text": [
      "       DR_NO               Date Rptd                DATE OCC  TIME OCC  AREA  \\\n",
      "0  190326475  03/01/2020 12:00:00 AM  03/01/2020 12:00:00 AM      2130     7   \n",
      "1  200106753  02/09/2020 12:00:00 AM  02/08/2020 12:00:00 AM      1800     1   \n",
      "2  200320258  11/11/2020 12:00:00 AM  11/04/2020 12:00:00 AM      1700     3   \n",
      "3  200907217  05/10/2023 12:00:00 AM  03/10/2020 12:00:00 AM      2037     9   \n",
      "4  200412582  09/09/2020 12:00:00 AM  09/09/2020 12:00:00 AM       630     4   \n",
      "\n",
      "    AREA NAME  Rpt Dist No  Part 1-2  Crm Cd  \\\n",
      "0    Wilshire          784         1     510   \n",
      "1     Central          182         1     330   \n",
      "2   Southwest          356         1     480   \n",
      "3    Van Nuys          964         1     343   \n",
      "4  Hollenbeck          413         1     510   \n",
      "\n",
      "                                Crm Cd Desc  ... Vict Descent  Premis Cd  \\\n",
      "0                          VEHICLE - STOLEN  ...            O      101.0   \n",
      "1                     BURGLARY FROM VEHICLE  ...            O      128.0   \n",
      "2                             BIKE - STOLEN  ...            X      502.0   \n",
      "3  SHOPLIFTING-GRAND THEFT ($950.01 & OVER)  ...            O      405.0   \n",
      "4                          VEHICLE - STOLEN  ...            X      101.0   \n",
      "\n",
      "                                    Premis Desc Weapon Used Cd  Weapon Desc  \\\n",
      "0                                        STREET            0.0      UNKNOWN   \n",
      "1             BUS STOP/LAYOVER (ALSO QUERY 124)            0.0      UNKNOWN   \n",
      "2  MULTI-UNIT DWELLING (APARTMENT, DUPLEX, ETC)            0.0      UNKNOWN   \n",
      "3                                CLOTHING STORE            0.0      UNKNOWN   \n",
      "4                                        STREET            0.0      UNKNOWN   \n",
      "\n",
      "  Status   Status Desc                                  LOCATION      LAT  \\\n",
      "0     AA  Adult Arrest   1900 S  LONGWOOD                     AV  34.0375   \n",
      "1     IC   Invest Cont   1000 S  FLOWER                       ST  34.0444   \n",
      "2     IC   Invest Cont   1400 W  37TH                         ST  34.0210   \n",
      "3     IC   Invest Cont  14000    RIVERSIDE                    DR  34.1576   \n",
      "4     IC   Invest Cont                          200 E  AVENUE 28  34.0820   \n",
      "\n",
      "        LON  \n",
      "0 -118.3506  \n",
      "1 -118.2628  \n",
      "2 -118.3002  \n",
      "3 -118.4387  \n",
      "4 -118.2130  \n",
      "\n",
      "[5 rows x 23 columns]\n"
     ]
    }
   ],
   "source": [
    "print(df.head()) "
   ]
  },
  {
   "cell_type": "code",
   "execution_count": null,
   "metadata": {},
   "outputs": [],
   "source": [
    "# Save to csv for extraction into data warehouse\n",
    "df.to_csv('./data/cleaned_crime_data.csv', index=False)"
   ]
  }
 ],
 "metadata": {
  "kernelspec": {
   "display_name": ".venv",
   "language": "python",
   "name": "python3"
  },
  "language_info": {
   "codemirror_mode": {
    "name": "ipython",
    "version": 3
   },
   "file_extension": ".py",
   "mimetype": "text/x-python",
   "name": "python",
   "nbconvert_exporter": "python",
   "pygments_lexer": "ipython3",
   "version": "3.13.2"
  }
 },
 "nbformat": 4,
 "nbformat_minor": 2
}
